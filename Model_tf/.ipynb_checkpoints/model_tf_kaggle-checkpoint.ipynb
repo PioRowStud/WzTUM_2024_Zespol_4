{
 "cells": [
  {
   "cell_type": "code",
   "execution_count": 1,
   "id": "e05069e2-5029-4beb-a52a-dfc86bc92f2f",
   "metadata": {},
   "outputs": [
    {
     "name": "stderr",
     "output_type": "stream",
     "text": [
      "C:\\Users\\2002g\\AppData\\Local\\Programs\\Python\\Python312\\Lib\\site-packages\\keras\\src\\layers\\convolutional\\base_conv.py:99: UserWarning: Do not pass an `input_shape`/`input_dim` argument to a layer. When using Sequential models, prefer using an `Input(shape)` object as the first layer in the model instead.\n",
      "  super().__init__(\n"
     ]
    }
   ],
   "source": [
    "#data and lib import\n",
    "import pandas as pd\n",
    "import numpy as np\n",
    "import matplotlib.pyplot as plt\n",
    "from keras.optimizers import Adam\n",
    "from keras.losses import MeanSquaredError\n",
    "from model_tf_1 import *\n",
    "from model_tf_2 import *\n",
    "\n",
    "\n",
    "# Read the original and edited training data into Pandas DataFrames\n",
    "train = pd.read_csv(\"../Data/training.csv.gz\", compression=\"gzip\")\n",
    "test = pd.read_csv(\"../Data/test.csv.gz\", compression=\"gzip\")"
   ]
  },
  {
   "cell_type": "code",
   "execution_count": 2,
   "id": "0b9bbf7b-d8a6-4a46-b69a-1e904fd414ad",
   "metadata": {},
   "outputs": [
    {
     "name": "stderr",
     "output_type": "stream",
     "text": [
      "C:\\Users\\2002g\\AppData\\Local\\Temp\\ipykernel_21388\\2405692310.py:1: FutureWarning: DataFrame.fillna with 'method' is deprecated and will raise in a future version. Use obj.ffill() or obj.bfill() instead.\n",
      "  train.fillna(method='ffill', inplace=True)\n"
     ]
    }
   ],
   "source": [
    "train.fillna(method='ffill', inplace=True)\n",
    "X_test = np.array([np.fromstring(x, dtype=int, sep=' ') for x in test['Image']])\n",
    "X_test = X_test.reshape(-1, 96, 96, 1) / 255.0\n",
    "\n",
    "\n",
    "m,n = train.shape\n",
    "img_size = 96\n",
    "\n",
    "img = []\n",
    "for i in range(m):\n",
    "    spliting = np.array(train['Image'][i].split(' '),dtype = 'float64')\n",
    "    splitting = np.reshape(spliting,(img_size,img_size,1))\n",
    "    splitting /= 255 \n",
    "    img.append(splitting)\n",
    "img = np.array(img)\n",
    "\n",
    "X_train = img\n",
    "train.drop('Image', axis = 1, inplace = True)\n",
    "y_train = []\n",
    "\n",
    "for i in range(len(train)):\n",
    "    y = train.iloc[i,:].values\n",
    "    y_train.append(y)    \n",
    "    \n",
    "y_train= np.array(y_train, dtype = 'float')\n"
   ]
  },
  {
   "cell_type": "code",
   "execution_count": 3,
   "id": "de4762a4-1b03-4778-b088-c7cd2c3255c9",
   "metadata": {},
   "outputs": [
    {
     "ename": "NameError",
     "evalue": "name 'tf' is not defined",
     "output_type": "error",
     "traceback": [
      "\u001b[1;31m---------------------------------------------------------------------------\u001b[0m",
      "\u001b[1;31mNameError\u001b[0m                                 Traceback (most recent call last)",
      "Cell \u001b[1;32mIn[3], line 2\u001b[0m\n\u001b[0;32m      1\u001b[0m optimizer \u001b[38;5;241m=\u001b[39m Adam(learning_rate\u001b[38;5;241m=\u001b[39m\u001b[38;5;241m0.001\u001b[39m)\n\u001b[1;32m----> 2\u001b[0m model_1\u001b[38;5;241m.\u001b[39mcompile(optimizer\u001b[38;5;241m=\u001b[39moptimizer, loss\u001b[38;5;241m=\u001b[39m\u001b[43mtf\u001b[49m\u001b[38;5;241m.\u001b[39mkeras\u001b[38;5;241m.\u001b[39mlosses\u001b[38;5;241m.\u001b[39mMeanSquaredError(),metrics \u001b[38;5;241m=\u001b[39m [tf\u001b[38;5;241m.\u001b[39mkeras\u001b[38;5;241m.\u001b[39mmetrics\u001b[38;5;241m.\u001b[39mAccuracy()])\n\u001b[0;32m      3\u001b[0m history \u001b[38;5;241m=\u001b[39m model_1\u001b[38;5;241m.\u001b[39mfit(X_train\u001b[38;5;241m.\u001b[39mreshape(\u001b[38;5;241m-\u001b[39m\u001b[38;5;241m1\u001b[39m, \u001b[38;5;241m96\u001b[39m, \u001b[38;5;241m96\u001b[39m, \u001b[38;5;241m1\u001b[39m), y_train, epochs\u001b[38;5;241m=\u001b[39m\u001b[38;5;241m8\u001b[39m, batch_size\u001b[38;5;241m=\u001b[39m\u001b[38;5;241m16\u001b[39m,validation_split\u001b[38;5;241m=\u001b[39m\u001b[38;5;241m0.2\u001b[39m)\n\u001b[0;32m      5\u001b[0m optimizer \u001b[38;5;241m=\u001b[39m Adam(learning_rate\u001b[38;5;241m=\u001b[39m\u001b[38;5;241m0.001\u001b[39m)\n",
      "\u001b[1;31mNameError\u001b[0m: name 'tf' is not defined"
     ]
    }
   ],
   "source": [
    "\n",
    "\n",
    "optimizer = Adam(learning_rate=0.001)\n",
    "model_1.compile(optimizer=optimizer, loss=tf.keras.losses.MeanSquaredError(),metrics = [tf.keras.metrics.Accuracy()])\n",
    "history = model_1.fit(X_train.reshape(-1, 96, 96, 1), y_train, epochs=8, batch_size=16,validation_split=0.2)\n",
    "\n",
    "optimizer = Adam(learning_rate=0.001)\n",
    "model_2.compile(optimizer=optimizer, loss=tf.keras.losses.MeanSquaredError(),metrics = [tf.keras.metrics.Accuracy()])\n",
    "history2 = model_2.fit(X_train.reshape(-1, 96, 96, 1), y_train, epochs=8, batch_size=16,validation_split=0.2)"
   ]
  },
  {
   "cell_type": "code",
   "execution_count": null,
   "id": "e95cbb13-47cd-4dc9-a2c7-fc67767497b0",
   "metadata": {},
   "outputs": [],
   "source": [
    "y_test_pred = model_1.predict(X_test)\n",
    "y_test_pred2 = model_2.predict(X_test)"
   ]
  },
  {
   "cell_type": "code",
   "execution_count": null,
   "id": "1e1b352e-46a2-47cb-b618-9ccf5440036e",
   "metadata": {},
   "outputs": [],
   "source": [
    "t = y_test_pred[1]\n",
    "plt.imshow(X_test[1], cmap='gray')\n",
    "plt.scatter(t[0::2], t[1::2], c='red', marker='x')"
   ]
  },
  {
   "cell_type": "code",
   "execution_count": null,
   "id": "28c9200f-ff78-4b60-b5dd-68a1c6406132",
   "metadata": {},
   "outputs": [],
   "source": [
    "t2 = y_test_pred2[1]\n",
    "plt.imshow(X_test[1], cmap='gray')\n",
    "plt.scatter(t2[0::2], t2[1::2], c='red', marker='x')"
   ]
  },
  {
   "cell_type": "code",
   "execution_count": null,
   "id": "13c5dc19-09e4-4800-aecc-81aa04fa89a9",
   "metadata": {},
   "outputs": [],
   "source": [
    "model_1.save(\"model_kaggle.h5\")\n",
    "model_2.save(\"model2_kaggle.h5\")"
   ]
  },
  {
   "cell_type": "code",
   "execution_count": null,
   "id": "13cb09ae-6f63-477c-b707-44c0d56f1ef3",
   "metadata": {},
   "outputs": [],
   "source": []
  }
 ],
 "metadata": {
  "kernelspec": {
   "display_name": "Python 3 (ipykernel)",
   "language": "python",
   "name": "python3"
  },
  "language_info": {
   "codemirror_mode": {
    "name": "ipython",
    "version": 3
   },
   "file_extension": ".py",
   "mimetype": "text/x-python",
   "name": "python",
   "nbconvert_exporter": "python",
   "pygments_lexer": "ipython3",
   "version": "3.12.3"
  }
 },
 "nbformat": 4,
 "nbformat_minor": 5
}
